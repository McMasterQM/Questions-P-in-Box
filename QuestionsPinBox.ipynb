{
 "cells": [
  {
   "cell_type": "markdown",
   "metadata": {},
   "source": [
    "# Particle-in-a-Box\n",
    "\n",
    "## &#x1f468;&#x200d;&#x1f3eb; Purpose\n",
    "This contains questions about the simplest quantum system, one particle in a one-dimensional box with infinite sides.\n",
    "\n",
    "1. &#x1f3b2; Multiple-Choice Questions. (One or more answers, separated by spaces or commas.)\n",
    "2. &#x1fa99; True/False Questions. (Write True/False.)\n",
    "3. &#x1F5A9; Numerical answers requiring some calculation. (Write the numerical answer in the requested units; significant figures are not checked.)\n",
    "4. &#x1f9ee; Numerical answers requiring minimal calculation or counting. (Write the answer as a number.)\n",
    "4. &#x1f500; Matching Questions. (Write pairs sequentially.)\n",
    "\n",
    "> **Notes:**\n",
    ">- You can upload files to show your mathematical work; you can also type mathematics using Markdown.\n",
    ">- You can use the notebook as a calculator for numerical problems; but you can also just type in your answer computed offline.\n",
    ">- You may find these [sheets containing reference data and mathematical formulas/identities](https://github.com/QC-Edu/IntroQM2022/blob/master/documents/ReferenceConstantsConversionsMath.pdf) useful.\n",
    "\n",
    "\n",
    "-----\n",
    "## &#x1f4dc; Instructions\n",
    "\n",
    "Answer the following 10 questions. Remember to *always* put your answer in the indicated position and never use the bold-faced word \"Answer\" elsewhere. Other than that restriction, the rest of your notebook is yours to play with."
   ]
  },
  {
   "cell_type": "markdown",
   "metadata": {},
   "source": [
    "-----\n",
    "## &#x1f501; Review\n",
    "\n",
    "**1. &#x1F5A9;** The work function of chromium is 4.40 eV.  What is the kinetic energy, in Joules, of electrons emitted from a chromium surface that is irradiated with ultraviolet radiation of wavelength 170 nm?\n",
    "\n",
    "**Answer:** 4.635e-19\n"
   ]
  },
  {
   "cell_type": "code",
   "execution_count": 4,
   "metadata": {},
   "outputs": [
    {
     "name": "stdout",
     "output_type": "stream",
     "text": [
      "The kinetic energy of the emitted electrons are 4.635e-19 J.\n"
     ]
    }
   ],
   "source": [
    "import scipy\n",
    "from scipy import constants\n",
    "\n",
    "#compute the energy of the photon\n",
    "wavelength = 170e-9                                  #wavelength in nm\n",
    "E_photon = constants.h * constants.c / wavelength    #Energy of photon in Joules\n",
    "Work_func = 4.40 * constants.e                       #Work function in Joules\n",
    "KE = E_photon - Work_func                            #KE of electrons in Joules\n",
    "print(\"The kinetic energy of the emitted electrons are {0:.3e} J.\".format(KE))"
   ]
  },
  {
   "cell_type": "markdown",
   "metadata": {},
   "source": [
    "-----\n",
    "**2. &#x1F5A9; What is the de Broglie wavelength of an electron moving at $1.2345 \\times 10^6 \\text{m/s}$ in nanometers?** (Relativistic effects are negligible here).\n",
    "\n",
    "**Answer:** .5892 "
   ]
  },
  {
   "cell_type": "code",
   "execution_count": 5,
   "metadata": {},
   "outputs": [
    {
     "name": "stdout",
     "output_type": "stream",
     "text": [
      "The wavelength of the electron are 5.892e-01 nm.\n"
     ]
    }
   ],
   "source": [
    "velocity = 1.2345e6                   #velocity in meters per second\n",
    "momentum = constants.m_e * velocity   #momentum in SI units\n",
    "wavelength_m = constants.h / momentum   #De Broglie relation\n",
    "wavelength_nm = wavelength_m/1e-9\n",
    "print(\"The wavelength of the electron are {0:.3e} nm.\".format(wavelength_nm))"
   ]
  },
  {
   "cell_type": "markdown",
   "metadata": {},
   "source": [
    "----\n",
    "## &#x25b6;&#xfe0f; The Particle-in-a-Box"
   ]
  },
  {
   "cell_type": "markdown",
   "metadata": {},
   "source": [
    "**3. &#x1f3b2;** A system is defined by the following wave function. \n",
    "$$ \n",
    "\\psi\\left(x\\right)= \n",
    "\\begin{cases}\n",
    "N\\cos\\left(\\frac{2\\pi x}{L}\\right) &  -\\frac{L}{4} \\leq x \\leq \\frac{L}{4} \\\\\n",
    "0 & \\text{otherwise}\n",
    "\\end{cases}\n",
    "$$\n",
    "**What is the normalization constant $N$?**\n",
    " \n",
    "| | |\n",
    "| --| --| \n",
    "|**A.** $\\; N = \\frac{2}{L}$ | **D.** $\\; N= \\sqrt{\\frac{4}{L}}$|\n",
    "|**B.** $\\; N = \\frac{16}{L^2}$ | **E.** $\\; N= \\sqrt{\\frac{2\\pi}{L}}$|\n",
    "|**C.** $\\;N=\\frac{4\\pi}{L^2}$ | **F.** $\\;N=\\frac{4\\pi}{L}$  |\n",
    "| | |\n",
    "\n",
    "**Answer:** D"
   ]
  },
  {
   "cell_type": "markdown",
   "metadata": {},
   "source": [
    "We know that the normalization constant for a box of lenght $a$ is $N=\\sqrt{\\tfrac{2}{a}}$. This is a box of length $a=\\tfrac{L}{2}$. Substituting into the expression, we have\n",
    "$$\n",
    "N = \\sqrt{\\tfrac{2}{\\tfrac{L}{2}}}=\\sqrt{\\tfrac{4}{L}}\n",
    "$$"
   ]
  },
  {
   "cell_type": "markdown",
   "metadata": {},
   "source": [
    "----\n",
    "**4. &#x1f3b2;** A particle of mass $m$ in a one-dimensional box of length $a$ is in its ground state.  **If you double the size of the box, the zero-point energy of the box will ___.**\n",
    "| | |\n",
    "|--|--|\n",
    "| A. quadruple | D. halve|\n",
    "| B. double    | E. decrease by a factor of 1/4 |\n",
    "| C. stay the same | F. none of the above|\n",
    "| | |\n",
    "\n",
    "**Answer:** E"
   ]
  },
  {
   "cell_type": "markdown",
   "metadata": {},
   "source": [
    "----\n",
    "**5. &#x1f3b2;** A particle of mass $m$ in a one-dimensional box of length $a$ is in its ground state.  **If you double the mass of the particle, the zero-point energy of the box will ___.**\n",
    "| | |\n",
    "|--|--|\n",
    "| A. quadruple | D. halve|\n",
    "| B. double    | E. decrease by a factor of 1/4 |\n",
    "| C. stay the same | F. none of the above|\n",
    "| | |\n",
    "\n",
    "**Answer:** D"
   ]
  },
  {
   "cell_type": "markdown",
   "metadata": {},
   "source": [
    "Questions 4 and 5 follow directly from the expression for the zero-point energy, $E_{n=1} = \\tfrac{h^2}{8ma^2}$."
   ]
  },
  {
   "cell_type": "markdown",
   "metadata": {},
   "source": [
    "-----\n",
    "**6. &#x1f3b2;** For a particle in a one-dimensional box of length $a$, **what is $\\langle x^2 \\rangle$?**\n",
    "\n",
    "| | |\n",
    "|---|---|\n",
    "|**A.** $\\; \\frac{2}{a} - \\frac{a^2}{2n^2\\pi^2}$|**E.** $\\; \\frac{a^2}{3} - \\frac{a^2}{2n^2\\pi^2}$ |\n",
    "|**B.** $\\; \\frac{2}{a} - \\frac{a^2}{4n^2\\pi^2}$|**F.** $\\; \\frac{a^2}{4}$ |\n",
    "|**C.** $\\; \\frac{a^2}{2n^2\\pi^2} - \\frac{a^2}{3}$|**G.** $\\; \\frac{a^2}{6}$|\n",
    "|**D.** $\\; \\frac{a^2}{2n^2\\pi^2} - \\frac{2}{a}$|**H.** $\\; \\frac{a}{2}$|.|\n",
    "| | |\n",
    "\n",
    "**Answer:** E\n",
    "\n"
   ]
  },
  {
   "cell_type": "markdown",
   "metadata": {},
   "source": [
    "The units must be $\\text{length}^2$, so only C, E, F, and G are possible. We know that $\\langle x^2 \\rangle \\ge \\langle x \\rangle^2$, with equality only if there is no spread at all in the particle's position. Since there is a range of particle positions, this precludes F and G. Expression C is *negative* for large $n$, so it clearly does not work. This confirms that E is the right answer, as confirmed in the [course material](https://qchem.qc-edu.org/ipynb/ParticleIn1DBox.html#postulate-observable-quantities-correspond-to-linear-hermitian-operators)."
   ]
  },
  {
   "cell_type": "markdown",
   "metadata": {},
   "source": [
    "------\n",
    "**7. &#x1f3b2;** For a particle in a one-dimensional box of length $a$, **what is $\\langle \\hat{p}^2 \\rangle$?**\n",
    "\n",
    "| | |\n",
    "|--|--|\n",
    "| A. $\\;\\frac{n^2\\pi^2\\hbar^2}{a^2}$   | D. $\\;\\frac{n\\pi\\hbar}{2a}$  |\n",
    "| B. $\\;\\frac{n^2\\pi^2\\hbar^2}{2a^2}$  | E. $\\;\\frac{a}{2}$ |\n",
    "| C. $\\;\\frac{n\\pi\\hbar}{a}$           | F. $\\;0$ |\n",
    "\n",
    "**Answer:** A\n",
    "\n"
   ]
  },
  {
   "cell_type": "markdown",
   "metadata": {},
   "source": [
    "Since $\\langle \\hat{p}^2 \\rangle$ has units of energy times mass, only the first two choices (A and B) even have the right units. Since the energy of a particle-in-a-box is purely kinetic, $\\langle \\hat{p}^2 \\rangle = 2m \\cdot T = 2m\\cdot E$, the answer can then be deduced for the expression for the energy of the particle-in-a-box (in terms of $\\hbar$), which gives $\\langle \\hat{p}^2 \\rangle = 2m \\cdot \\frac{\\hbar^2 n^2 \\pi^2}{2ma^2} = \\frac{\\hbar^2 n^2 \\pi^2}{a^2}$"
   ]
  },
  {
   "cell_type": "markdown",
   "metadata": {},
   "source": [
    "-----\n",
    "**8. &#x1f3b2;** For a particle in a one-dimensional box of length $a$, **what is $\\sigma_p$?** Recall that \n",
    "$$\n",
    "\\hat{p} = -i\\hbar \\frac{d}{dx}\n",
    "$$ \n",
    "and \n",
    "$$\n",
    "\\sigma_p= \\left( \\langle \\hat{p}^2 \\rangle - {\\langle \\hat{p} \\rangle}^2 \\right)^{1/2}\n",
    "$$\n",
    "\n",
    "| | |\n",
    "|--|--| \n",
    "|$A. \\;\\frac{n^2 h^2}{4a^2}$|D. $\\;0$|\n",
    "|$B. \\;\\frac{nh}{2a}$|$E. \\;\\sqrt{\\frac{2a}{nh}}$|\n",
    "|$C. \\;\\sqrt{\\frac{nh}{2a}}$|$F. \\;\\frac{2a}{nh}$|\n",
    "| | |\n",
    "\n",
    "**Answer:** B"
   ]
  },
  {
   "cell_type": "markdown",
   "metadata": {},
   "source": [
    "Cyanine dye absorption wavelength.\n",
    "Length in Bohr.\n"
   ]
  }
 ],
 "metadata": {
  "interpreter": {
   "hash": "8867fa4a874d625ac151e80518eaa96dde9c32243951e64c9d5c087633ad9a9a"
  },
  "kernelspec": {
   "display_name": "Python 3.8.5 64-bit",
   "language": "python",
   "name": "python3"
  },
  "language_info": {
   "codemirror_mode": {
    "name": "ipython",
    "version": 3
   },
   "file_extension": ".py",
   "mimetype": "text/x-python",
   "name": "python",
   "nbconvert_exporter": "python",
   "pygments_lexer": "ipython3",
   "version": "3.8.5"
  },
  "orig_nbformat": 4
 },
 "nbformat": 4,
 "nbformat_minor": 2
}
