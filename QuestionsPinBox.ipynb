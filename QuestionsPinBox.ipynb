{
 "cells": [
  {
   "cell_type": "markdown",
   "metadata": {},
   "source": [
    "# Particle-in-a-Box\n",
    "\n",
    "## &#x1f468;&#x200d;&#x1f3eb; Purpose\n",
    "This contains questions about the simplest quantum system, one particle in a one-dimensional box with infinite sides.\n",
    "\n",
    "1. &#x1f3b2; Multiple-Choice Questions. (One or more answers, separated by spaces or commas.)\n",
    "2. &#x1fa99; True/False Questions. (Write True/False.)\n",
    "3. &#x1F5A9; Numerical answers requiring some calculation. (Write the numerical answer in the requested units; significant figures are not checked.)\n",
    "4. &#x1f9ee; Numerical answers requiring minimal calculation or counting. (Write the answer as a number.)\n",
    "4. &#x1f500; Matching Questions. (Write pairs sequentially.)\n",
    "\n",
    "> **Notes:**\n",
    ">- You can upload files to show your mathematical work; you can also type mathematics using Markdown.\n",
    ">- You can use the notebook as a calculator for numerical problems; but you can also just type in your answer computed offline.\n",
    ">- You may find these [sheets containing reference data and mathematical formulas/identities](https://github.com/QC-Edu/IntroQM2022/blob/master/documents/ReferenceConstantsConversionsMath.pdf) useful.\n",
    "\n",
    "\n",
    "-----\n",
    "## &#x1f4dc; Instructions\n",
    "\n",
    "Answer the following 10 questions. Remember to *always* put your answer in the indicated position and never use the bold-faced word \"Answer\" elsewhere. Other than that restriction, the rest of your notebook is yours to play with."
   ]
  },
  {
   "cell_type": "markdown",
   "metadata": {},
   "source": [
    "-----\n",
    "## &#x1f501; Review\n",
    "\n",
    "**1. &#x1F5A9;** The work function of chromium is 4.40 eV.  What is the kinetic energy, in Joules, of electrons emitted from a chromium surface that is irradiated with ultraviolet radiation of wavelength 170 nm?\n",
    "\n",
    "**Answer:** 4.635e-19\n"
   ]
  },
  {
   "cell_type": "markdown",
   "metadata": {},
   "source": [
    "-----\n",
    "**2. &#x1F5A9; What is the de Broglie wavelength of an electron moving at $1.2345 \\times 10^6 \\text{m/s}$ in nanometers?** (Relativistic effects are negligible here).\n",
    "\n",
    "**Answer:** .5892 "
   ]
  },
  {
   "cell_type": "markdown",
   "metadata": {},
   "source": [
    "----\n",
    "## &#x25b6;&#xfe0f; The Particle-in-a-Box"
   ]
  },
  {
   "cell_type": "markdown",
   "metadata": {},
   "source": [
    "**3. &#x1f3b2;** A system is defined by the following wave function. \n",
    "$$ \n",
    "\\psi\\left(x\\right)= \n",
    "\\begin{cases}\n",
    "N\\cos\\left(\\frac{2\\pi x}{L}\\right) &  -\\frac{L}{4} \\leq x \\leq \\frac{L}{4} \\\\\n",
    "0 & \\text{otherwise}\n",
    "\\end{cases}\n",
    "$$\n",
    "**What is the normalization constant $N$?**\n",
    " \n",
    "| | |\n",
    "| --| --| \n",
    "|**A.** $\\; N = \\frac{2}{L}$ | **D.** $\\; N= \\sqrt{\\frac{4}{L}}$|\n",
    "|**B.** $\\; N = \\frac{16}{L^2}$ | **E.** $\\; N= \\sqrt{\\frac{2\\pi}{L}}$|\n",
    "|**C.** $\\;N=\\frac{4\\pi}{L^2}$ | **F.** $\\;N=\\frac{4\\pi}{L}$  |\n",
    "| | |\n",
    "\n",
    "**Answer:** D"
   ]
  },
  {
   "cell_type": "markdown",
   "metadata": {},
   "source": [
    "For a particle in a one-dimensional box of length a, what is $\\sigma_p$? $\\hat{p} = -i\\hbar \\frac{d}{dx}$, and $\\sigma_\\hat{p}= \\left( \\langle p^2 \\rangle - {\\langle p \\rangle}^2 \\right)^{1/2}$.\n",
    "ANS: \\frac{nh}{2a}\n",
    "\\frac{n^2h^2}{4a^2}\n",
    "\\sqrt{\\frac{nh}{2a}}\n",
    "0\n",
    "\\sqrt{\\frac{2a}{nh}}\n",
    "\\frac{2a}{nh}\n"
   ]
  },
  {
   "cell_type": "markdown",
   "metadata": {},
   "source": [
    "A particle of mass m in a one-dimensional box of length a is in its ground state.  If you double the size of the box, the zero-point energy of the box will:\n",
    "ANS: decrease by a factor of 1/4\n",
    "double\n",
    "quadruple\n",
    "halve\n",
    "none of the above\n",
    "\n",
    "A particle of mass m in a one-dimensional box of length a is in its ground state.  If you double the mass of the particle, the zero-point energy of the box will:\n",
    "ANS: halve\n",
    "double\n",
    "quadruple\n",
    "decrease by a factor of 1/4\n",
    "none of the above\n",
    "\n",
    "How large would Planck's constant have to be in order for the first excitation energy of a ball bearing (m = 0.01 g) in a 1.0 cm box to be observable to the naked eye?  Use 500 nm as the wavelength of visible light.\n",
    "ANS: 1.6x10^{6} J \\cdot s\n",
    "1.6x10^{-3} J \\cdot s\n",
    "1.2x10^{6} J \\cdot s\n",
    "1.2x10^{-3} J \\cdot s\n",
    "6.0x10^{6} J \\cdot s\n",
    "6.0x10^{-3} J \\cdot s\n",
    "\n",
    "$z = x + 2iy$.  What is $z \\cdot z^{*}$ ?\n",
    "ANS: x^2 + 4y^2\n",
    "x^2 - 4y^2\n",
    "x^2 + 4iy^2\n",
    "x^2 - 4iy^2\n",
    "\n",
    "For an electron in a one-dimensional box of length a, what is $\\langle x^2 \\rangle$?\n",
    "ANS: \\frac{a^2}{3} - \\frac{a^2}{2n^2\\pi^2}\n",
    "\\frac{2}{a} - \\frac{a^2}{4n^2\\pi^2}\n",
    "\\frac{a^2}{4}\n",
    "\\frac{2}{a} - \\frac{a^2}{2n^2\\pi^2}\n",
    "\\frac{a^2}{2n^2\\pi^2} - \\frac{a^2}{3}\n",
    "\\frac{a^2}{2n^2\\pi^2} - \\frac{2}{a}\n",
    "\\frac{a}{2}\n",
    "\n",
    "For an electron in a one-dimensional box of length a, what is $\\langle p^2 \\rangle$?\n",
    "ANS: \\frac{n^2\\pi^2\\hbar^2}{a^2}\n",
    "\\frac{n\\pi\\hbar}{a}\n",
    "0\n",
    "\\frac{n\\pi\\hbar}{2a}\n",
    "\\frac{n^2\\pi^2\\hbar^2}{4a^2}\n",
    "\\frac{a}{2}"
   ]
  },
  {
   "cell_type": "markdown",
   "metadata": {},
   "source": []
  }
 ],
 "metadata": {
  "interpreter": {
   "hash": "8867fa4a874d625ac151e80518eaa96dde9c32243951e64c9d5c087633ad9a9a"
  },
  "kernelspec": {
   "display_name": "Python 3.8.5 64-bit",
   "language": "python",
   "name": "python3"
  },
  "language_info": {
   "codemirror_mode": {
    "name": "ipython",
    "version": 3
   },
   "file_extension": ".py",
   "mimetype": "text/x-python",
   "name": "python",
   "nbconvert_exporter": "python",
   "pygments_lexer": "ipython3",
   "version": "3.8.5"
  },
  "orig_nbformat": 4
 },
 "nbformat": 4,
 "nbformat_minor": 2
}
